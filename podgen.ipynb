{
 "cells": [
  {
   "cell_type": "code",
   "execution_count": null,
   "metadata": {},
   "outputs": [],
   "source": [
    "#PodGen \n",
    "\n",
    "## UI\n",
    "# Enter a topic \n",
    "# Select Beginner, Intermediate, Advanced \n",
    "\n",
    "\n",
    "\n",
    "\n"
   ]
  },
  {
   "cell_type": "code",
   "execution_count": null,
   "metadata": {},
   "outputs": [],
   "source": [
    "# Note: you need to be using OpenAI Python v0.27.0 for the code below to work\n",
    "import openai as openai\n",
    "import os\n",
    "\n",
    "#using dotenv import environment variables\n",
    "from dotenv import load_dotenv\n",
    "load_dotenv()\n",
    "\n",
    "#set the API key\n",
    "openai.api_key = os.getenv(\"OPENAI_API_KEY\")\n",
    "print(openai.api_key)\n",
    "\n",
    "\n",
    "openai.ChatCompletion.create(\n",
    "  model=\"gpt-3.5-turbo\",\n",
    "  messages=[\n",
    "        {\"role\": \"system\", \"content\": \"You are a helpful assistant.\"},\n",
    "        {\"role\": \"\", \"content\": \"Who won the world series in 2020?\"},\n",
    "        {\"role\": \"assistant\", \"content\": \"The Los Angeles Dodgers won the World Series in 2020.\"},\n",
    "        {\"role\": \"user\", \"content\": \"Where was it played?\"}\n",
    "    ]\n",
    ")\n",
    "\n",
    "testPrompt = \"explain basic concepts of ethereum in the form of a podcast with an interviewer and interviewee, generate an podcast script in the form of a conversation between the expert Satoshi and Podcaster Rogan, make sure the content is at the basic level, with each answer not longer than 100 words and the total podcast not longer than 1000 words\"\n",
    "\n",
    "\n",
    "testPodcast = [\n",
    "    {\n",
    "        \"speaker\": \"Rogan\",\n",
    "        \"message\": \"Welcome back, Satoshi. Let's dive right into Ethereum 2.0. Could you elaborate on the transition from Proof-of-Work to Proof-of-Stake?\"\n",
    "    },\n",
    "    {\n",
    "        \"speaker\": \"Satoshi\",\n",
    "        \"message\": \"Absolutely, Rogan. Ethereum 2.0 or 'Serenity' is a major upgrade aimed at improving scalability and security. It will shift Ethereum from a Proof-of-Work model to Proof-of-Stake, where validators are chosen to create a new block based on the amount of ether they hold and are willing to 'stake' as collateral.\"\n",
    "    },\n",
    "    {\n",
    "        \"speaker\": \"Rogan\",\n",
    "        \"message\": \"Can you delve into sharding and how it's expected to improve Ethereum's scalability?\"\n",
    "    },\n",
    "    {\n",
    "        \"speaker\": \"Satoshi\",\n",
    "        \"message\": \"Sharding is a method of partitioning data into smaller pieces or 'shards,' each capable of processing its transactions and smart contracts. This means transactions can be processed in parallel, significantly increasing capacity.\"\n",
    "    },\n",
    "    {\n",
    "        \"speaker\": \"Rogan\",\n",
    "        \"message\": \"Interesting. How about the Ethereum Improvement Proposals (EIPs)? Can you discuss EIP-1559 and its impact?\"\n",
    "    },\n",
    "    {\n",
    "        \"speaker\": \"Satoshi\",\n",
    "        \"message\": \"EIP-1559 overhauls the way transaction fees, or 'gas,' work on Ethereum. It introduces a 'base fee' for transactions to be included in the next block, aiming to make transaction costs more predictable.\"\n",
    "    },\n",
    "    {\n",
    "        \"speaker\": \"Rogan\",\n",
    "        \"message\": \"How is Ethereum addressing the challenges with smart contract vulnerabilities?\"\n",
    "    },\n",
    "    {\n",
    "        \"speaker\": \"Satoshi\",\n",
    "        \"message\": \"The Ethereum community encourages best practices like thorough testing, code audits, and formal verification. Upgrades like EIPs also propose security improvements.\"\n",
    "    },\n",
    "    {\n",
    "        \"speaker\": \"Rogan\",\n",
    "        \"message\": \"Thanks for your insights, Satoshi. This has been enlightening.\"\n",
    "    },\n",
    "    {\n",
    "        \"speaker\": \"Satoshi\",\n",
    "        \"message\": \"My pleasure, Rogan. Always happy to discuss blockchain technology.\"\n",
    "    }\n",
    "]\n",
    "\n"
   ]
  },
  {
   "cell_type": "code",
   "execution_count": null,
   "metadata": {},
   "outputs": [],
   "source": [
    "data = [\n",
    "    {\n",
    "        \"speaker\": \"Rogan\",\n",
    "        \"message\": \"Welcome back, Satoshi. Let's dive right into Ethereum 2.0. Could you elaborate on the transition from Proof-of-Work to Proof-of-Stake?\"\n",
    "    },\n",
    "    {\n",
    "        \"speaker\": \"Satoshi\",\n",
    "        \"message\": \"Absolutely, Rogan. Ethereum 2.0 or 'Serenity' is a major upgrade aimed at improving scalability and security. It will shift Ethereum from a Proof-of-Work model to Proof-of-Stake, where validators are chosen to create a new block based on the amount of ether they hold and are willing to 'stake' as collateral.\"\n",
    "    },\n",
    "    {\n",
    "        \"speaker\": \"Rogan\",\n",
    "        \"message\": \"Can you delve into sharding and how it's expected to improve Ethereum's scalability?\"\n",
    "    },\n",
    "    {\n",
    "        \"speaker\": \"Satoshi\",\n",
    "        \"message\": \"Sharding is a method of partitioning data into smaller pieces or 'shards,' each capable of processing its transactions and smart contracts. This means transactions can be processed in parallel, significantly increasing capacity.\"\n",
    "    },\n",
    "    {\n",
    "        \"speaker\": \"Rogan\",\n",
    "        \"message\": \"Interesting. How about the Ethereum Improvement Proposals (EIPs)? Can you discuss EIP-1559 and its impact?\"\n",
    "    },\n",
    "    {\n",
    "        \"speaker\": \"Satoshi\",\n",
    "        \"message\": \"EIP-1559 overhauls the way transaction fees, or 'gas,' work on Ethereum. It introduces a 'base fee' for transactions to be included in the next block, aiming to make transaction costs more predictable.\"\n",
    "    },\n",
    "    {\n",
    "        \"speaker\": \"Rogan\",\n",
    "        \"message\": \"How is Ethereum addressing the challenges with smart contract vulnerabilities?\"\n",
    "    },\n",
    "    {\n",
    "        \"speaker\": \"Satoshi\",\n",
    "        \"message\": \"The Ethereum community encourages best practices like thorough testing, code audits, and formal verification. Upgrades like EIPs also propose security improvements.\"\n",
    "    },\n",
    "    {\n",
    "        \"speaker\": \"Rogan\",\n",
    "        \"message\": \"Thanks for your insights, Satoshi. This has been enlightening.\"\n",
    "    },\n",
    "    {\n",
    "        \"speaker\": \"Satoshi\",\n",
    "        \"message\": \"My pleasure, Rogan. Always happy to discuss blockchain technology.\"\n",
    "    }\n",
    "]\n",
    "\n",
    "\n",
    "\n",
    "\n"
   ]
  },
  {
   "cell_type": "code",
   "execution_count": 18,
   "metadata": {},
   "outputs": [
    {
     "ename": "",
     "evalue": "",
     "output_type": "error",
     "traceback": [
      "\u001b[1;31mThe Kernel crashed while executing code in the the current cell or a previous cell. Please review the code in the cell(s) to identify a possible cause of the failure. Click <a href='https://aka.ms/vscodeJupyterKernelCrash'>here</a> for more info. View Jupyter <a href='command:jupyter.viewOutput'>log</a> for further details."
     ]
    },
    {
     "ename": "",
     "evalue": "",
     "output_type": "error",
     "traceback": [
      "\u001b[1;31mCanceled future for execute_request message before replies were done"
     ]
    }
   ],
   "source": []
  }
 ],
 "metadata": {
  "kernelspec": {
   "display_name": "base",
   "language": "python",
   "name": "python3"
  },
  "language_info": {
   "codemirror_mode": {
    "name": "ipython",
    "version": 3
   },
   "file_extension": ".py",
   "mimetype": "text/x-python",
   "name": "python",
   "nbconvert_exporter": "python",
   "pygments_lexer": "ipython3",
   "version": "3.9.13 (main, Aug 25 2022, 18:29:29) \n[Clang 12.0.0 ]"
  },
  "orig_nbformat": 4,
  "vscode": {
   "interpreter": {
    "hash": "ec02dce9b0bc597473e13c8270c2df67646033edf81c8b62cd44e88a86794134"
   }
  }
 },
 "nbformat": 4,
 "nbformat_minor": 2
}
